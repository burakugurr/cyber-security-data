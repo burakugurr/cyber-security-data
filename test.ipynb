{
 "cells": [
  {
   "cell_type": "code",
   "execution_count": 1,
   "metadata": {},
   "outputs": [],
   "source": [
    "import findspark\n",
    "findspark.init()"
   ]
  },
  {
   "cell_type": "code",
   "execution_count": 2,
   "metadata": {},
   "outputs": [],
   "source": [
    "import pyspark\n",
    "from pyspark.sql import SparkSession\n",
    "import os"
   ]
  },
  {
   "cell_type": "code",
   "execution_count": 3,
   "metadata": {},
   "outputs": [],
   "source": [
    "url = \"http://192.168.89.83:19120/api/v1\"\n",
    "# Nessie tablolarının tutulacağı bucket\n",
    "full_path_to_warehouse = 's3a://warehouse'\n",
    "# Bessie için kullanacağımız branch\n",
    "ref = \"main\"\n",
    "# Nessie authentication türü. Diğer seçenekler (NONE, BEARER, OAUTH2 or AWS)\n",
    "auth_type = \"NONE\"\n",
    "# AWS S3 yerine MinIO kullandığımız için. Spark'a amazona gitme burada kal demek için.\n",
    "s3_endpoint = \"http://192.168.89.83:9000\"\n",
    "# MinIO'ya erişim için. Bunlar root olarak docker-compose içinde belirtiliyor. Bu haliyle canlı ortamlarda kullanılmamalıdır.\n",
    "accessKeyId='drYvJmGewawyxvrZnUqr'\n",
    "secretAccessKey='c1O1FXQrUbmqOQmVzN5M7JaujU8S2EEEl3NbXjPZ'\n"
   ]
  },
  {
   "cell_type": "code",
   "execution_count": 4,
   "metadata": {},
   "outputs": [
    {
     "name": "stderr",
     "output_type": "stream",
     "text": [
      "Warning: Ignoring non-Spark config property: fs.s3a.connection.ssl.enabled\n",
      "24/09/18 01:04:02 WARN Utils: Your hostname, obase-VMware20-1 resolves to a loopback address: 127.0.1.1; using 192.168.89.83 instead (on interface ens33)\n",
      "24/09/18 01:04:02 WARN Utils: Set SPARK_LOCAL_IP if you need to bind to another address\n"
     ]
    },
    {
     "name": "stdout",
     "output_type": "stream",
     "text": [
      ":: loading settings :: url = jar:file:/home/obase/spark/spark-3.5.2-bin-hadoop3/jars/ivy-2.5.1.jar!/org/apache/ivy/core/settings/ivysettings.xml\n"
     ]
    },
    {
     "name": "stderr",
     "output_type": "stream",
     "text": [
      "Ivy Default Cache set to: /home/obase/.ivy2/cache\n",
      "The jars for the packages stored in: /home/obase/.ivy2/jars\n",
      "org.apache.iceberg#iceberg-spark-runtime-3.3_2.12 added as a dependency\n",
      "org.projectnessie.nessie-integrations#nessie-spark-extensions-3.3_2.12 added as a dependency\n",
      ":: resolving dependencies :: org.apache.spark#spark-submit-parent-f329ce24-15a1-4010-a9b5-45bba28739e4;1.0\n",
      "\tconfs: [default]\n",
      "\tfound org.apache.iceberg#iceberg-spark-runtime-3.3_2.12;1.5.2 in central\n",
      "\tfound org.projectnessie.nessie-integrations#nessie-spark-extensions-3.3_2.12;0.96.1 in central\n",
      ":: resolution report :: resolve 167ms :: artifacts dl 5ms\n",
      "\t:: modules in use:\n",
      "\torg.apache.iceberg#iceberg-spark-runtime-3.3_2.12;1.5.2 from central in [default]\n",
      "\torg.projectnessie.nessie-integrations#nessie-spark-extensions-3.3_2.12;0.96.1 from central in [default]\n",
      "\t---------------------------------------------------------------------\n",
      "\t|                  |            modules            ||   artifacts   |\n",
      "\t|       conf       | number| search|dwnlded|evicted|| number|dwnlded|\n",
      "\t---------------------------------------------------------------------\n",
      "\t|      default     |   2   |   0   |   0   |   0   ||   2   |   0   |\n",
      "\t---------------------------------------------------------------------\n",
      ":: retrieving :: org.apache.spark#spark-submit-parent-f329ce24-15a1-4010-a9b5-45bba28739e4\n",
      "\tconfs: [default]\n",
      "\t0 artifacts copied, 2 already retrieved (0kB/6ms)\n",
      "24/09/18 01:04:02 WARN NativeCodeLoader: Unable to load native-hadoop library for your platform... using builtin-java classes where applicable\n",
      "Setting default log level to \"WARN\".\n",
      "To adjust logging level use sc.setLogLevel(newLevel). For SparkR, use setLogLevel(newLevel).\n"
     ]
    }
   ],
   "source": [
    "spark = (\n",
    "    SparkSession.builder\n",
    "    .master(\"local\")\n",
    "    .appName(\"Spark Nessie Iceberg Demo\")\n",
    "    .config(\"spark.driver.memory\", \"16g\")\n",
    "    .config(\"spark.hadoop.fs.s3a.aws.credentials.provider\",\n",
    "                 \"org.apache.hadoop.fs.s3a.SimpleAWSCredentialsProvider\")\\\n",
    "    .config('spark.jars.packages','org.apache.iceberg:iceberg-spark-runtime-3.3_2.12:1.5.2,org.projectnessie.nessie-integrations:nessie-spark-extensions-3.3_2.12:0.96.1')\n",
    "    .config(\"spark.hadoop.fs.s3a.access.key\", accessKeyId)\n",
    "    .config(\"spark.hadoop.fs.s3a.secret.key\", secretAccessKey)\n",
    "    .config(\"spark.hadoop.fs.s3a.path.style.access\", True)\n",
    "    .config(\"spark.hadoop.fs.s3a.impl\", \"org.apache.hadoop.fs.s3a.S3AFileSystem\")\n",
    "    # Spark Amazon S3 varsayılan API'sine değil lokaldeki MinIO'ya gitsin.\n",
    "    .config(\"spark.hadoop.fs.s3a.endpoint\", s3_endpoint)\n",
    "    # Spark extensions arasından Iceberg ve Nessie\n",
    "    # Spark Nessie'yi nerede bulacak onun adresi\n",
    "    .config(\"spark.sql.catalog.nessie.uri\", url)\n",
    "    # Hangi branch ile çalışacak\n",
    "    .config(\"spark.sql.catalog.nessie.ref\", ref)\n",
    "    # Nessie'ye her gelen birşey sormasın. Hangi auth yöntemi ile sorulacak. Burada yok.\n",
    "    .config(\"spark.sql.catalog.nessie.authentication.type\", auth_type)\n",
    "    # Katalog nessie olsun.\n",
    "     .config(\"spark.sql.catalog.nessie\", \"org.apache.iceberg.spark.SparkCatalog\")\n",
    "    # Spark katalog implementasyonu iceberg.nessie olsun. Varsayılan kendi lokali\n",
    "    .config(\"spark.sql.catalog.nessie.catalog-impl\", \"org.apache.iceberg.nessie.NessieCatalog\")\n",
    "    # Varsayılan warehouse adresini minio s3 warehouse bucket gösteriyoruz.\n",
    "    .config(\"spark.sql.catalog.nessie.warehouse\", full_path_to_warehouse)\n",
    "    .config(\"fs.s3a.connection.ssl.enabled\", \"false\")\n",
    "    .getOrCreate()\n",
    ")"
   ]
  },
  {
   "cell_type": "code",
   "execution_count": 18,
   "metadata": {},
   "outputs": [],
   "source": [
    "from pyspark.sql.types import StructType, StructField\n",
    "from pyspark.sql.types import DoubleType, IntegerType,StringType, FloatType\n",
    "\n",
    "\n",
    "schema = StructType([\n",
    "    StructField(\"TS\", FloatType(), True),\n",
    "    StructField(\"flow_duration\", FloatType()),\n",
    "    StructField(\"Header_Length\", IntegerType()),\n",
    "        StructField(\"DestinationIP\" ,StringType()),\n",
    "        StructField(\"SourceIP\", StringType()),\n",
    "        StructField(\"SourcePort\",IntegerType()),\n",
    "        StructField(\"DestinationPort\",IntegerType()),\n",
    "        StructField(\"ProtocolType\",IntegerType()),\n",
    "        StructField(\"Protocol_name\" ,StringType()),\n",
    "        StructField(\"Duration\" ,StringType()),\n",
    "        StructField(\"Rate\",FloatType()),\n",
    "        StructField(\"Srate\",FloatType()),\n",
    "        StructField(\"Drate\",FloatType()),\n",
    "        StructField(\"fin_flag_number\",IntegerType()),\n",
    "        StructField(\"syn_flag_number\",IntegerType()),\n",
    "        StructField(\"rst_flag_number\",IntegerType()),\n",
    "        StructField(\"psh_flag_number\",IntegerType()),\n",
    "        StructField(\"ack_flag_number\",IntegerType()),\n",
    "        StructField(\"urg_flag_number\",IntegerType()),\n",
    "        StructField(\"ece_flag_number\",IntegerType()),\n",
    "        StructField(\"cwr_flag_number\",IntegerType()),\n",
    "        StructField(\"ack_count\",IntegerType()),\n",
    "        StructField(\"syn_count\",IntegerType()),\n",
    "        StructField(\"fin_count\",IntegerType()),\n",
    "        StructField(\"urg_count\",IntegerType()),\n",
    "        StructField(\"rst_count\",IntegerType()),\n",
    "        StructField(\"max_duration\",FloatType()),\n",
    "        StructField(\"min_duration\",FloatType()),\n",
    "        StructField(\"sum_duration\",FloatType()),\n",
    "        StructField(\"average_duration\",FloatType()),\n",
    "        StructField(\"std_duration\",FloatType()),\n",
    "        StructField(\"CoAP\",IntegerType()),\n",
    "        StructField(\"HTTP\",IntegerType()),\n",
    "        StructField(\"HTTPS\",IntegerType()),\n",
    "        StructField(\"DNS\",IntegerType()),\n",
    "        StructField(\"Telnet\",IntegerType()),\n",
    "        StructField(\"SMTP\",IntegerType()),\n",
    "        StructField(\"SSH\",IntegerType()),\n",
    "        StructField(\"IRC\",IntegerType()),\n",
    "        StructField(\"TCP\",IntegerType()),\n",
    "        StructField(\"UDP\",IntegerType()),\n",
    "        StructField(\"DHCP\",IntegerType()),\n",
    "        StructField(\"ARP\",IntegerType()),\n",
    "        StructField(\"ICMP\",IntegerType()),\n",
    "        StructField(\"IGMP\",IntegerType()),\n",
    "        StructField(\"IPv\",IntegerType()),\n",
    "        StructField(\"LLC\",IntegerType()),\n",
    "        StructField(\"Tot_sum\",FloatType()),\n",
    "        StructField(\"Minn\",FloatType()),\n",
    "        StructField(\"Maxx\",FloatType()),\n",
    "        StructField(\"AVGG\",FloatType()),\n",
    "        StructField(\"Std\",FloatType()),\n",
    "        StructField(\"Totsize\" ,StringType()),\n",
    "        StructField(\"IAT\",FloatType()),\n",
    "        StructField(\"Number\",IntegerType()),\n",
    "        StructField(\"MAC\",IntegerType()),\n",
    "        StructField(\"Magnitue\",FloatType()),\n",
    "        StructField(\"Radius\",FloatType()),\n",
    "        StructField(\"Covariance\",FloatType()),\n",
    "        StructField(\"Variance\",FloatType()),\n",
    "        StructField(\"Weight\",IntegerType()),\n",
    "        StructField(\"DSstatus\", StringType()),\n",
    "        StructField(\"Fragments\", StringType()),\n",
    "        StructField(\"Sequencenumber\", StringType()),\n",
    "        StructField(\"ProtocolVersion\",StringType()),\n",
    "        StructField(\"flow_idle_time\",FloatType()),\n",
    "        StructField(\"flow_active_time\",FloatType()),\n",
    "        StructField(\"label\",IntegerType()),\n",
    "        StructField(\"subLabel\",IntegerType()),\n",
    "        StructField(\"subLabelCat\",IntegerType()),\n",
    "\n",
    "])"
   ]
  },
  {
   "cell_type": "code",
   "execution_count": 19,
   "metadata": {},
   "outputs": [
    {
     "name": "stdout",
     "output_type": "stream",
     "text": [
      "+-----------+-------------+-------------+-------------+-------------+----------+---------------+------------+-------------+--------+---------+---------+-----+---------------+---------------+---------------+---------------+---------------+---------------+---------------+---------------+---------+---------+---------+---------+---------+------------+------------+------------+----------------+------------+----+----+-----+---+------+----+---+---+---+---+----+---+----+----+---+---+-------+----+----+----+---+-------+------------+------+------+---------+------+----------+--------+------+--------+---------+--------------+---------------+--------------+----------------+-----+--------+-----------+\n",
      "|         TS|flow_duration|Header_Length|DestinationIP|     SourceIP|SourcePort|DestinationPort|ProtocolType|Protocol_name|Duration|     Rate|    Srate|Drate|fin_flag_number|syn_flag_number|rst_flag_number|psh_flag_number|ack_flag_number|urg_flag_number|ece_flag_number|cwr_flag_number|ack_count|syn_count|fin_count|urg_count|rst_count|max_duration|min_duration|sum_duration|average_duration|std_duration|CoAP|HTTP|HTTPS|DNS|Telnet|SMTP|SSH|IRC|TCP|UDP|DHCP|ARP|ICMP|IGMP|IPv|LLC|Tot_sum|Minn|Maxx|AVGG|Std|Totsize|         IAT|Number|   MAC| Magnitue|Radius|Covariance|Variance|Weight|DSstatus|Fragments|Sequencenumber|ProtocolVersion|flow_idle_time|flow_active_time|label|subLabel|subLabelCat|\n",
      "+-----------+-------------+-------------+-------------+-------------+----------+---------------+------------+-------------+--------+---------+---------+-----+---------------+---------------+---------------+---------------+---------------+---------------+---------------+---------------+---------+---------+---------+---------+---------+------------+------------+------------+----------------+------------+----+----+-----+---+------+----+---+---+---+---+----+---+----+----+---+---+-------+----+----+----+---+-------+------------+------+------+---------+------+----------+--------+------+--------+---------+--------------+---------------+--------------+----------------+-----+--------+-----------+\n",
      "|1.7014264E9|          0.0|           66|172.16.64.128|172.16.66.128|     41750|            502|           6|          TCP|      64|      0.0|      0.0|  0.0|              0|              0|              0|              0|              1|              0|              0|              0|        0|        0|        0|        0|        1| 1.7014264E9| 1.7014264E9| 1.7014264E9|     1.7014264E9|         0.0|   0|   0|    0|  0|     0|   0|  0|  0|  1|  0|   0|  0|   0|   0|  1|  1|   66.0|66.0|66.0|66.0|0.0|     66| 1.7014264E9|     1|808448|11.489125|   0.0|       0.0|     0.0|     1|       0|        0|             0|              0|   1.7014264E9|             0.0|    0|       0|          0|\n",
      "|1.7014264E9| 0.0021121502|          132|172.16.64.128|172.16.66.128|     41750|            502|           6|          TCP|      64|946.90234|946.90234|  0.0|              0|              0|              0|              0|              1|              0|              0|              0|        0|        0|        0|        0|        2| 1.7014264E9| 1.7014264E9| 3.4028529E9|     1.7014264E9|0.0010560751|   0|   0|    0|  0|     0|   0|  0|  0|  1|  0|   0|  0|   0|   0|  1|  1|  132.0|66.0|66.0|66.0|0.0|     66|0.0021121502|     2|808448|11.489125|   0.0|       0.0|     0.0|     4|       0|        0|             0|              0|  0.0021121502|    0.0021121502|    0|       0|          0|\n",
      "|1.7014264E9| 0.0023281574|          198|172.16.64.128|172.16.66.128|     41750|            502|           6|          TCP|      64|1288.5726|1288.5726|  0.0|              0|              0|              0|              0|              1|              0|              0|              0|        0|        0|        0|        0|        3| 1.7014264E9| 1.7014264E9| 5.1042796E9|     1.7014264E9|0.0010502991|   0|   0|    0|  0|     0|   0|  0|  0|  1|  0|   0|  0|   0|   0|  1|  1|  198.0|66.0|66.0|66.0|0.0|     66|2.1600723E-4|     3|808448|11.489125|   0.0|       0.0|     0.0|     9|       0|        0|             0|              0|  2.1600723E-4|    0.0023281574|    0|       0|          0|\n",
      "|1.7014264E9| 0.0043292046|          264|172.16.64.128|172.16.66.128|     41750|            502|           6|          TCP|      64| 923.9573| 923.9573|  0.0|              0|              0|              0|              0|              1|              0|              0|              0|        0|        0|        0|        0|        4| 1.7014264E9| 1.7014264E9| 6.8057057E9|     1.7014264E9|0.0015327607|   0|   0|    0|  0|     0|   0|  0|  0|  1|  0|   0|  0|   0|   0|  1|  1|  264.0|66.0|66.0|66.0|0.0|     66|0.0020010471|     4|808448|11.489125|   0.0|       0.0|     0.0|    16|       0|        0|             0|              0|  0.0020010471|    0.0043292046|    0|       0|          0|\n",
      "|1.7014264E9|   0.00949502|          330|172.16.64.128|172.16.66.128|     41750|            502|           6|          TCP|      64|526.59186|526.59186|  0.0|              1|              0|              0|              0|              1|              0|              0|              0|        1|        0|        0|        0|        5| 1.7014264E9| 1.7014264E9| 8.5071324E9|     1.7014264E9| 0.003226772|   0|   0|    0|  0|     0|   0|  0|  0|  1|  0|   0|  0|   0|   0|  1|  1|  330.0|66.0|66.0|66.0|0.0|     66|0.0051658154|     5|808448|11.489125|   0.0|       0.0|     0.0|    25|       0|        0|             0|              0|  0.0051658154|      0.00949502|    0|       0|          0|\n",
      "+-----------+-------------+-------------+-------------+-------------+----------+---------------+------------+-------------+--------+---------+---------+-----+---------------+---------------+---------------+---------------+---------------+---------------+---------------+---------------+---------+---------+---------+---------+---------+------------+------------+------------+----------------+------------+----+----+-----+---+------+----+---+---+---+---+----+---+----+----+---+---+-------+----+----+----+---+-------+------------+------+------+---------+------+----------+--------+------+--------+---------+--------------+---------------+--------------+----------------+-----+--------+-----------+\n",
      "only showing top 5 rows\n",
      "\n"
     ]
    },
    {
     "name": "stderr",
     "output_type": "stream",
     "text": [
      "24/09/18 01:19:33 WARN CSVHeaderChecker: CSV header does not conform to the schema.\n",
      " Header: ts, flow_duration, Header_Length, Source IP, Destination IP, Source Port, Destination Port, Protocol Type, Protocol_name, Duration, Rate, Srate, Drate, fin_flag_number, syn_flag_number, rst_flag_number, psh_flag_number, ack_flag_number, urg_flag_number, ece_flag_number, cwr_flag_number, ack_count, syn_count, fin_count, urg_count, rst_count, max_duration, min_duration, sum_duration, average_duration, std_duration, CoAP, HTTP, HTTPS, DNS, Telnet, SMTP, SSH, IRC, TCP, UDP, DHCP, ARP, ICMP, IGMP, IPv, LLC, Tot sum, Min, Max, AVG, Std, Tot size, IAT, Number, MAC, Magnitue, Radius, Covariance, Variance, Weight, DS status, Fragments, Sequence number, Protocol Version, flow_idle_time, flow_active_time, label, subLabel, subLabelCat\n",
      " Schema: TS, flow_duration, Header_Length, DestinationIP, SourceIP, SourcePort, DestinationPort, ProtocolType, Protocol_name, Duration, Rate, Srate, Drate, fin_flag_number, syn_flag_number, rst_flag_number, psh_flag_number, ack_flag_number, urg_flag_number, ece_flag_number, cwr_flag_number, ack_count, syn_count, fin_count, urg_count, rst_count, max_duration, min_duration, sum_duration, average_duration, std_duration, CoAP, HTTP, HTTPS, DNS, Telnet, SMTP, SSH, IRC, TCP, UDP, DHCP, ARP, ICMP, IGMP, IPv, LLC, Tot_sum, Minn, Maxx, AVGG, Std, Totsize, IAT, Number, MAC, Magnitue, Radius, Covariance, Variance, Weight, DSstatus, Fragments, Sequencenumber, ProtocolVersion, flow_idle_time, flow_active_time, label, subLabel, subLabelCat\n",
      "Expected: DestinationIP but found: Source IP\n",
      "CSV file: s3a://datasets/phase1_NetworkData.csv\n"
     ]
    }
   ],
   "source": [
    "df = spark.read.csv(\"s3a://datasets/phase1_NetworkData.csv\",header=True, schema=schema, inferSchema=True)\n",
    "#df = spark.read.csv(\"s3a://datasets/phase1_NetworkData.csv\",header=True,)\n",
    "\n",
    "df.show(5)"
   ]
  },
  {
   "cell_type": "code",
   "execution_count": 20,
   "metadata": {},
   "outputs": [],
   "source": [
    "from pyspark.sql.functions import col\n",
    "from pyspark.sql.types import TimestampType\n",
    "\n",
    "\n",
    "df = df.withColumn('TS', col('TS').cast(TimestampType()))"
   ]
  },
  {
   "cell_type": "code",
   "execution_count": 21,
   "metadata": {},
   "outputs": [
    {
     "name": "stdout",
     "output_type": "stream",
     "text": [
      "+-------------------+-------------+-------------+-------------+-------------+----------+---------------+------------+-------------+--------+---------+---------+-----+---------------+---------------+---------------+---------------+---------------+---------------+---------------+---------------+---------+---------+---------+---------+---------+------------+------------+------------+----------------+------------+-----+-----+-----+-----+------+-----+-----+-----+----+-----+-----+-----+-----+-----+----+----+-------+----+----+--------+---------+-------+------------+------+------+---------+--------+----------+--------+------+--------+---------+--------------+---------------+--------------+----------------+-----+--------+-----------+\n",
      "|                 TS|flow_duration|Header_Length|DestinationIP|     SourceIP|SourcePort|DestinationPort|ProtocolType|Protocol_name|Duration|     Rate|    Srate|Drate|fin_flag_number|syn_flag_number|rst_flag_number|psh_flag_number|ack_flag_number|urg_flag_number|ece_flag_number|cwr_flag_number|ack_count|syn_count|fin_count|urg_count|rst_count|max_duration|min_duration|sum_duration|average_duration|std_duration| CoAP| HTTP|HTTPS|  DNS|Telnet| SMTP|  SSH|  IRC| TCP|  UDP| DHCP|  ARP| ICMP| IGMP| IPv| LLC|Tot_sum|Minn|Maxx|    AVGG|      Std|Totsize|         IAT|Number|   MAC| Magnitue|  Radius|Covariance|Variance|Weight|DSstatus|Fragments|Sequencenumber|ProtocolVersion|flow_idle_time|flow_active_time|label|subLabel|subLabelCat|\n",
      "+-------------------+-------------+-------------+-------------+-------------+----------+---------------+------------+-------------+--------+---------+---------+-----+---------------+---------------+---------------+---------------+---------------+---------------+---------------+---------------+---------+---------+---------+---------+---------+------------+------------+------------+----------------+------------+-----+-----+-----+-----+------+-----+-----+-----+----+-----+-----+-----+-----+-----+----+----+-------+----+----+--------+---------+-------+------------+------+------+---------+--------+----------+--------+------+--------+---------+--------------+---------------+--------------+----------------+-----+--------+-----------+\n",
      "|2023-12-01 13:27:12|          0.0|           66|172.16.64.128|172.16.66.128|     41750|            502|           6|          TCP|      64|      0.0|      0.0|  0.0|          false|          false|          false|          false|           true|          false|          false|          false|        0|        0|        0|        0|        1| 1.7014264E9| 1.7014264E9| 1.7014264E9|     1.7014264E9|         0.0|false|false|false|false| false|false|false|false|true|false|false|false|false|false|true|true|   66.0|66.0|66.0|    66.0|      0.0|     66| 1.7014264E9|     1|808448|11.489125|     0.0|       0.0|     0.0|     1|       0|        0|             0|              0|   1.7014264E9|             0.0|false|   false|      false|\n",
      "|2023-12-01 13:27:12| 0.0021121502|          132|172.16.64.128|172.16.66.128|     41750|            502|           6|          TCP|      64|946.90234|946.90234|  0.0|          false|          false|          false|          false|           true|          false|          false|          false|        0|        0|        0|        0|        2| 1.7014264E9| 1.7014264E9| 3.4028529E9|     1.7014264E9|0.0010560751|false|false|false|false| false|false|false|false|true|false|false|false|false|false|true|true|  132.0|66.0|66.0|    66.0|      0.0|     66|0.0021121502|     2|808448|11.489125|     0.0|       0.0|     0.0|     4|       0|        0|             0|              0|  0.0021121502|    0.0021121502|false|   false|      false|\n",
      "|2023-12-01 13:27:12| 0.0023281574|          198|172.16.64.128|172.16.66.128|     41750|            502|           6|          TCP|      64|1288.5726|1288.5726|  0.0|          false|          false|          false|          false|           true|          false|          false|          false|        0|        0|        0|        0|        3| 1.7014264E9| 1.7014264E9| 5.1042796E9|     1.7014264E9|0.0010502991|false|false|false|false| false|false|false|false|true|false|false|false|false|false|true|true|  198.0|66.0|66.0|    66.0|      0.0|     66|2.1600723E-4|     3|808448|11.489125|     0.0|       0.0|     0.0|     9|       0|        0|             0|              0|  2.1600723E-4|    0.0023281574|false|   false|      false|\n",
      "|2023-12-01 13:27:12| 0.0043292046|          264|172.16.64.128|172.16.66.128|     41750|            502|           6|          TCP|      64| 923.9573| 923.9573|  0.0|          false|          false|          false|          false|           true|          false|          false|          false|        0|        0|        0|        0|        4| 1.7014264E9| 1.7014264E9| 6.8057057E9|     1.7014264E9|0.0015327607|false|false|false|false| false|false|false|false|true|false|false|false|false|false|true|true|  264.0|66.0|66.0|    66.0|      0.0|     66|0.0020010471|     4|808448|11.489125|     0.0|       0.0|     0.0|    16|       0|        0|             0|              0|  0.0020010471|    0.0043292046|false|   false|      false|\n",
      "|2023-12-01 13:27:12|   0.00949502|          330|172.16.64.128|172.16.66.128|     41750|            502|           6|          TCP|      64|526.59186|526.59186|  0.0|           true|          false|          false|          false|           true|          false|          false|          false|        1|        0|        0|        0|        5| 1.7014264E9| 1.7014264E9| 8.5071324E9|     1.7014264E9| 0.003226772|false|false|false|false| false|false|false|false|true|false|false|false|false|false|true|true|  330.0|66.0|66.0|    66.0|      0.0|     66|0.0051658154|     5|808448|11.489125|     0.0|       0.0|     0.0|    25|       0|        0|             0|              0|  0.0051658154|      0.00949502|false|   false|      false|\n",
      "|2023-12-01 13:27:12|   0.01160717|          396|172.16.64.128|172.16.66.128|     41750|            502|           6|          TCP|      64| 516.9219| 516.9219|  0.0|           true|          false|          false|          false|           true|          false|          false|          false|        2|        0|        0|        0|        6| 1.7014264E9| 1.7014264E9|1.0208559E10|     1.7014264E9| 0.004179026|false|false|false|false| false|false|false|false|true|false|false|false|false|false|true|true|  396.0|66.0|66.0|    66.0|      0.0|     66|0.0021121502|     6|808448|11.489125|     0.0|       0.0|     0.0|    36|       0|        0|             0|              0|  0.0021121502|      0.01160717|false|   false|      false|\n",
      "|2023-12-01 13:27:12|  0.011808157|          462|172.16.64.128|172.16.66.128|     41750|            502|           6|          TCP|      64|592.81055|592.81055|  0.0|           true|          false|          false|          false|           true|          false|          false|          false|        3|        0|        0|        0|        7| 1.7014264E9| 1.7014264E9|1.1909985E10|     1.7014264E9|0.0045476044|false|false|false|false| false|false|false|false|true|false|false|false|false|false|true|true|  462.0|66.0|66.0|    66.0|      0.0|     66|2.0098686E-4|     7|808448|11.489125|     0.0|       0.0|     0.0|    49|       0|        0|             0|              0|  2.0098686E-4|     0.011808157|false|   false|      false|\n",
      "|2023-12-01 13:27:12|  0.013809204|          528|172.16.64.128|172.16.66.128|     41750|            502|           6|          TCP|      64| 579.3237| 579.3237|  0.0|           true|          false|          false|          false|           true|          false|          false|          false|        4|        0|        0|        0|        8| 1.7014264E9| 1.7014264E9|1.3611411E10|     1.7014264E9|0.0049843816|false|false|false|false| false|false|false|false|true|false|false|false|false|false|true|true|  528.0|66.0|66.0|    66.0|      0.0|     66|0.0020010471|     8|808448|11.489125|     0.0|       0.0|     0.0|    64|       0|        0|             0|              0|  0.0020010471|     0.013809204|false|   false|      false|\n",
      "|2023-12-01 13:27:12|  0.014196157|          594|172.16.66.128|172.16.64.128|       502|          41750|           6|          TCP|      64|633.97437|633.97437|  0.0|           true|          false|          false|          false|           true|          false|          false|          false|        5|        0|        0|        0|        9| 1.7014264E9| 1.7014264E9|1.5312838E10|     1.7014264E9| 0.005223919|false|false|false|false| false|false|false|false|true|false|false|false|false|false|true|true|  594.0|66.0|66.0|    66.0|      0.0|     66|3.8695335E-4|     9|808448|11.489125|     0.0|       0.0|     0.0|    81|       0|        0|             0|              0|  3.8695335E-4|     0.014196157|false|   false|      false|\n",
      "|2023-12-01 13:27:12|  0.016197205|          660|172.16.66.128|172.16.64.128|       502|          41750|           6|          TCP|      64| 617.3905| 617.3905|  0.0|           true|          false|          false|          false|           true|          false|          false|          false|        6|        0|        0|        0|       10| 1.7014264E9| 1.7014264E9|1.7014265E10|     1.7014264E9|0.0055671646|false|false|false|false| false|false|false|false|true|false|false|false|false|false|true|true|  660.0|66.0|66.0|    66.0|      0.0|     66|0.0020010471|    10|808448|11.489125|     0.0|       0.0|     0.0|   100|       0|        0|             0|              0|  0.0020010471|     0.016197205|false|   false|      false|\n",
      "|2023-12-01 13:27:12|  0.016472101|          726|172.16.66.128|172.16.64.128|       502|          41750|           6|          TCP|      64| 667.7958| 667.7958|  0.0|           true|          false|          false|          false|           true|          false|          false|          false|        7|        0|        0|        0|       11| 1.7014264E9| 1.7014264E9| 1.871569E10|     1.7014264E9| 0.005771702|false|false|false|false| false|false|false|false|true|false|false|false|false|false|true|true|  726.0|66.0|66.0|    66.0|      0.0|     66|2.7489662E-4|    11|808448|11.489125|     0.0|       0.0|     0.0|   121|       0|        0|             0|              0|  2.7489662E-4|     0.016472101|false|   false|      false|\n",
      "|2023-12-01 13:27:12|  0.018584013|          792|172.16.66.128|172.16.64.128|       502|          41750|           6|          TCP|      64| 645.7163| 645.7163|  0.0|           true|          false|          false|          false|           true|          false|          false|          false|        8|        0|        0|        0|       12| 1.7014264E9| 1.7014264E9|2.0417118E10|     1.7014264E9| 0.006092097|false|false|false|false| false|false|false|false|true|false|false|false|false|false|true|true|  792.0|66.0|66.0|    66.0|      0.0|     66|0.0021119118|    12|808448|11.489125|     0.0|       0.0|     0.0|   144|       0|        0|             0|              0|  0.0021119118|     0.018584013|false|   false|      false|\n",
      "|2023-12-01 13:27:12|  0.019061089|          858|172.16.64.128|172.16.66.128|     41750|            502|           6|          TCP|      64| 682.0177| 682.0177|  0.0|          false|          false|          false|          false|           true|          false|          false|          false|        8|        0|        0|        0|       13| 1.7014264E9| 1.7014264E9|2.2118543E10|     1.7014264E9|0.0063236356|false|false|false|false| false|false|false|false|true|false|false|false|false|false|true|true|  858.0|66.0|66.0|    66.0|      0.0|     66|4.7707558E-4|    13|808448|11.489125|     0.0|       0.0|     0.0|   169|       0|        0|             0|              0|  4.7707558E-4|     0.019061089|false|   false|      false|\n",
      "|2023-12-01 13:27:12|     0.021173|          924|172.16.64.128|172.16.66.128|     41750|            502|           6|          TCP|      64| 661.2195| 661.2195|  0.0|          false|          false|          false|          false|           true|          false|          false|          false|        8|        0|        0|        0|       14| 1.7014264E9| 1.7014264E9| 2.381997E10|     1.7014264E9| 0.006656664|false|false|false|false| false|false|false|false|true|false|false|false|false|false|true|true|  924.0|66.0|66.0|    66.0|      0.0|     66|0.0021119118|    14|808448|11.489125|     0.0|       0.0|     0.0|   196|       0|        0|             0|              0|  0.0021119118|        0.021173|false|   false|      false|\n",
      "|2023-12-01 13:27:12|  0.021376133|          990|172.16.64.128|172.16.66.128|     41750|            502|           6|          TCP|      64|701.71716|701.71716|  0.0|          false|          false|          false|          false|           true|          false|          false|          false|        8|        0|        0|        0|       15| 1.7014264E9| 1.7014264E9|2.5521396E10|     1.7014264E9|0.0068855635|false|false|false|false| false|false|false|false|true|false|false|false|false|false|true|true|  990.0|66.0|66.0|    66.0|      0.0|     66|2.0313263E-4|    15|808448|11.489125|     0.0|       0.0|     0.0|   225|       0|        0|             0|              0|  2.0313263E-4|     0.021376133|false|   false|      false|\n",
      "|2023-12-01 13:27:12|   0.02337718|         1056|172.16.64.128|172.16.66.128|     41750|            502|           6|          TCP|      64|684.42816|684.42816|  0.0|          false|          false|          false|          false|           true|          false|          false|          false|        8|        0|        0|        0|       16| 1.7014264E9| 1.7014264E9|2.7222823E10|     1.7014264E9| 0.007197731|false|false|false|false| false|false|false|false|true|false|false|false|false|false|true|true| 1056.0|66.0|66.0|    66.0|      0.0|     66|0.0020010471|    16|808448|11.489125|     0.0|       0.0|     0.0|   256|       0|        0|             0|              0|  0.0020010471|      0.02337718|false|   false|      false|\n",
      "|2023-12-01 13:27:12|          0.0|           82|172.16.64.128|172.16.63.128|      1883|          56837|           6|          TCP|      64|684.42816|684.42816|  0.0|          false|          false|          false|           true|           true|          false|          false|          false|        0|        0|        0|        1|        1| 1.7014264E9| 1.7014264E9| 1.7014264E9|     1.7014264E9|         0.0|false|false|false|false| false|false|false|false|true|false|false|false|false|false|true|true| 1138.0|66.0|82.0|66.94118| 3.764706|     82| 0.084615946|    17|808448|11.570754|5.324098| 14.173011|     1.0|   289|       0|        0|             0|              0|   1.7014264E9|             0.0|false|   false|      false|\n",
      "|2023-12-01 13:27:12| 0.0021369457|          164|172.16.64.128|172.16.63.128|      1883|          56837|           6|          TCP|      64| 935.9152| 935.9152|  0.0|          false|          false|          false|           true|           true|          false|          false|          false|        0|        0|        0|        2|        2| 1.7014264E9| 1.7014264E9| 3.4028529E9|     1.7014264E9|0.0010684729|false|false|false|false| false|false|false|false|true|false|false|false|false|false|true|true| 1220.0|66.0|82.0|67.77778| 5.028315|     82|0.0021369457|    18|808448|11.642833|7.111111|  25.28395|     1.0|   324|       0|        0|             0|              0|  0.0021369457|    0.0021369457|false|   false|      false|\n",
      "|2023-12-01 13:27:12| 0.0034880638|          241|172.16.63.128|172.16.64.128|     56837|           1883|           6|          TCP|      64|  860.076|  860.076|  0.0|          false|          false|          false|           true|           true|          false|          false|          false|        0|        0|        0|        3|        3| 1.7014264E9| 1.7014264E9| 5.1042796E9|     1.7014264E9|0.0014359916|false|false|false|false| false|false|false|false|true|false|false|false|false|false|true|true| 1297.0|66.0|82.0|68.26316|5.3097935|     77|0.0013511181|    19|808448|11.684447|7.509182| 28.193905|     1.0|   361|       0|        0|             0|              0|  0.0013511181|    0.0034880638|false|   false|      false|\n",
      "|2023-12-01 13:27:12| 0.0056169033|          318|172.16.63.128|172.16.64.128|     56837|           1883|           6|          TCP|      64|712.13617|712.13617|  0.0|          false|          false|          false|           true|           true|          false|          false|          false|        0|        0|        0|        4|        4| 1.7014264E9| 1.7014264E9| 6.8057057E9|     1.7014264E9|0.0020425215|false|false|false|false| false|false|false|false|true|false|false|false|false|false|true|true| 1374.0|66.0|82.0|    68.7|5.5145264|     77| 1.7014264E9|     0|808448|11.684447|7.509182| 28.193905|     1.0|   361|       0|        0|             0|              0|  0.0021288395|    0.0056169033|false|   false|      false|\n",
      "+-------------------+-------------+-------------+-------------+-------------+----------+---------------+------------+-------------+--------+---------+---------+-----+---------------+---------------+---------------+---------------+---------------+---------------+---------------+---------------+---------+---------+---------+---------+---------+------------+------------+------------+----------------+------------+-----+-----+-----+-----+------+-----+-----+-----+----+-----+-----+-----+-----+-----+----+----+-------+----+----+--------+---------+-------+------------+------+------+---------+--------+----------+--------+------+--------+---------+--------------+---------------+--------------+----------------+-----+--------+-----------+\n",
      "only showing top 20 rows\n",
      "\n"
     ]
    },
    {
     "name": "stderr",
     "output_type": "stream",
     "text": [
      "24/09/18 01:19:36 WARN CSVHeaderChecker: CSV header does not conform to the schema.\n",
      " Header: ts, flow_duration, Header_Length, Source IP, Destination IP, Source Port, Destination Port, Protocol Type, Protocol_name, Duration, Rate, Srate, Drate, fin_flag_number, syn_flag_number, rst_flag_number, psh_flag_number, ack_flag_number, urg_flag_number, ece_flag_number, cwr_flag_number, ack_count, syn_count, fin_count, urg_count, rst_count, max_duration, min_duration, sum_duration, average_duration, std_duration, CoAP, HTTP, HTTPS, DNS, Telnet, SMTP, SSH, IRC, TCP, UDP, DHCP, ARP, ICMP, IGMP, IPv, LLC, Tot sum, Min, Max, AVG, Std, Tot size, IAT, Number, MAC, Magnitue, Radius, Covariance, Variance, Weight, DS status, Fragments, Sequence number, Protocol Version, flow_idle_time, flow_active_time, label, subLabel, subLabelCat\n",
      " Schema: TS, flow_duration, Header_Length, DestinationIP, SourceIP, SourcePort, DestinationPort, ProtocolType, Protocol_name, Duration, Rate, Srate, Drate, fin_flag_number, syn_flag_number, rst_flag_number, psh_flag_number, ack_flag_number, urg_flag_number, ece_flag_number, cwr_flag_number, ack_count, syn_count, fin_count, urg_count, rst_count, max_duration, min_duration, sum_duration, average_duration, std_duration, CoAP, HTTP, HTTPS, DNS, Telnet, SMTP, SSH, IRC, TCP, UDP, DHCP, ARP, ICMP, IGMP, IPv, LLC, Tot_sum, Minn, Maxx, AVGG, Std, Totsize, IAT, Number, MAC, Magnitue, Radius, Covariance, Variance, Weight, DSstatus, Fragments, Sequencenumber, ProtocolVersion, flow_idle_time, flow_active_time, label, subLabel, subLabelCat\n",
      "Expected: DestinationIP but found: Source IP\n",
      "CSV file: s3a://datasets/phase1_NetworkData.csv\n"
     ]
    }
   ],
   "source": [
    "from pyspark.sql.functions import to_date, from_unixtime,date_format, col, sum\n",
    "from pyspark.sql.types import DateType,BooleanType\n",
    "\n",
    "df = df\\\n",
    "    .withColumn(\"fin_flag_number\", col(\"fin_flag_number\").cast(BooleanType())) \\\n",
    "    .withColumn(\"syn_flag_number\", col(\"syn_flag_number\").cast(BooleanType()))\\\n",
    "    .withColumn(\"rst_flag_number\", col(\"rst_flag_number\").cast(BooleanType()))\\\n",
    "    .withColumn(\"psh_flag_number\", col(\"psh_flag_number\").cast(BooleanType()))\\\n",
    "    .withColumn(\"ack_flag_number\", col(\"ack_flag_number\").cast(BooleanType()))\\\n",
    "    .withColumn('urg_flag_number', col(\"urg_flag_number\").cast(BooleanType()))\\\n",
    "    .withColumn('ece_flag_number', col(\"ece_flag_number\").cast(BooleanType()))\\\n",
    "    .withColumn('cwr_flag_number', col(\"cwr_flag_number\").cast(BooleanType()))\\\n",
    "    .withColumn('CoAP', col(\"CoAP\").cast(BooleanType()))\\\n",
    "    .withColumn('HTTP', col(\"HTTP\").cast(BooleanType()))\\\n",
    "    .withColumn('HTTPS', col(\"HTTPS\").cast(BooleanType()))\\\n",
    "    .withColumn('DNS', col(\"DNS\").cast(BooleanType()))\\\n",
    "    .withColumn('Telnet', col(\"Telnet\").cast(BooleanType()))\\\n",
    "    .withColumn('SMTP', col(\"SMTP\").cast(BooleanType()))\\\n",
    "    .withColumn('SSH', col(\"SSH\").cast(BooleanType()))\\\n",
    "    .withColumn('IRC', col(\"IRC\").cast(BooleanType()))\\\n",
    "    .withColumn('TCP', col(\"TCP\").cast(BooleanType()))\\\n",
    "    .withColumn('UDP', col(\"UDP\").cast(BooleanType()))\\\n",
    "    .withColumn('DHCP', col(\"DHCP\").cast(BooleanType()))\\\n",
    "    .withColumn('ARP', col(\"ARP\").cast(BooleanType()))\\\n",
    "    .withColumn('ICMP', col(\"ICMP\").cast(BooleanType()))\\\n",
    "    .withColumn('IGMP', col(\"IGMP\").cast(BooleanType()))\\\n",
    "    .withColumn('IPv', col(\"IPv\").cast(BooleanType()))\\\n",
    "    .withColumn('LLC', col(\"LLC\").cast(BooleanType()))\\\n",
    "    .withColumn('label', col(\"label\").cast(BooleanType()))\\\n",
    "    .withColumn('subLabel', col(\"subLabel\").cast(BooleanType()))\\\n",
    "    .withColumn('subLabelCat', col(\"subLabelCat\").cast(BooleanType()))\n",
    "\n",
    "df.show()\n"
   ]
  },
  {
   "cell_type": "code",
   "execution_count": 22,
   "metadata": {},
   "outputs": [
    {
     "name": "stdout",
     "output_type": "stream",
     "text": [
      "+-------------------+-------------+-------------+-------------+-------------+----------+---------------+------------+-------------+--------+---------+---------+-----+---------------+---------------+---------------+---------------+---------------+---------------+---------------+---------------+---------+---------+---------+---------+---------+------------+------------+------------+----------------+------------+-----+-----+-----+-----+------+-----+-----+-----+----+-----+-----+-----+-----+-----+----+----+-------+----+----+--------+---------+-------+------------+------+------+---------+--------+----------+--------+------+--------+---------+--------------+---------------+--------------+----------------+-----+--------+-----------+\n",
      "|                 TS|flow_duration|Header_Length|DestinationIP|     SourceIP|SourcePort|DestinationPort|ProtocolType|Protocol_name|Duration|     Rate|    Srate|Drate|fin_flag_number|syn_flag_number|rst_flag_number|psh_flag_number|ack_flag_number|urg_flag_number|ece_flag_number|cwr_flag_number|ack_count|syn_count|fin_count|urg_count|rst_count|max_duration|min_duration|sum_duration|average_duration|std_duration| CoAP| HTTP|HTTPS|  DNS|Telnet| SMTP|  SSH|  IRC| TCP|  UDP| DHCP|  ARP| ICMP| IGMP| IPv| LLC|Tot_sum|Minn|Maxx|    AVGG|      Std|Totsize|         IAT|Number|   MAC| Magnitue|  Radius|Covariance|Variance|Weight|DSstatus|Fragments|Sequencenumber|ProtocolVersion|flow_idle_time|flow_active_time|label|subLabel|subLabelCat|\n",
      "+-------------------+-------------+-------------+-------------+-------------+----------+---------------+------------+-------------+--------+---------+---------+-----+---------------+---------------+---------------+---------------+---------------+---------------+---------------+---------------+---------+---------+---------+---------+---------+------------+------------+------------+----------------+------------+-----+-----+-----+-----+------+-----+-----+-----+----+-----+-----+-----+-----+-----+----+----+-------+----+----+--------+---------+-------+------------+------+------+---------+--------+----------+--------+------+--------+---------+--------------+---------------+--------------+----------------+-----+--------+-----------+\n",
      "|2023-12-01 13:27:12|          0.0|           66|172.16.64.128|172.16.66.128|     41750|            502|           6|          TCP|      64|      0.0|      0.0|  0.0|          false|          false|          false|          false|           true|          false|          false|          false|        0|        0|        0|        0|        1| 1.7014264E9| 1.7014264E9| 1.7014264E9|     1.7014264E9|         0.0|false|false|false|false| false|false|false|false|true|false|false|false|false|false|true|true|   66.0|66.0|66.0|    66.0|      0.0|     66| 1.7014264E9|     1|808448|11.489125|     0.0|       0.0|     0.0|     1|       0|        0|             0|              0|   1.7014264E9|             0.0|false|   false|      false|\n",
      "|2023-12-01 13:27:12| 0.0021121502|          132|172.16.64.128|172.16.66.128|     41750|            502|           6|          TCP|      64|946.90234|946.90234|  0.0|          false|          false|          false|          false|           true|          false|          false|          false|        0|        0|        0|        0|        2| 1.7014264E9| 1.7014264E9| 3.4028529E9|     1.7014264E9|0.0010560751|false|false|false|false| false|false|false|false|true|false|false|false|false|false|true|true|  132.0|66.0|66.0|    66.0|      0.0|     66|0.0021121502|     2|808448|11.489125|     0.0|       0.0|     0.0|     4|       0|        0|             0|              0|  0.0021121502|    0.0021121502|false|   false|      false|\n",
      "|2023-12-01 13:27:12| 0.0023281574|          198|172.16.64.128|172.16.66.128|     41750|            502|           6|          TCP|      64|1288.5726|1288.5726|  0.0|          false|          false|          false|          false|           true|          false|          false|          false|        0|        0|        0|        0|        3| 1.7014264E9| 1.7014264E9| 5.1042796E9|     1.7014264E9|0.0010502991|false|false|false|false| false|false|false|false|true|false|false|false|false|false|true|true|  198.0|66.0|66.0|    66.0|      0.0|     66|2.1600723E-4|     3|808448|11.489125|     0.0|       0.0|     0.0|     9|       0|        0|             0|              0|  2.1600723E-4|    0.0023281574|false|   false|      false|\n",
      "|2023-12-01 13:27:12| 0.0043292046|          264|172.16.64.128|172.16.66.128|     41750|            502|           6|          TCP|      64| 923.9573| 923.9573|  0.0|          false|          false|          false|          false|           true|          false|          false|          false|        0|        0|        0|        0|        4| 1.7014264E9| 1.7014264E9| 6.8057057E9|     1.7014264E9|0.0015327607|false|false|false|false| false|false|false|false|true|false|false|false|false|false|true|true|  264.0|66.0|66.0|    66.0|      0.0|     66|0.0020010471|     4|808448|11.489125|     0.0|       0.0|     0.0|    16|       0|        0|             0|              0|  0.0020010471|    0.0043292046|false|   false|      false|\n",
      "|2023-12-01 13:27:12|   0.00949502|          330|172.16.64.128|172.16.66.128|     41750|            502|           6|          TCP|      64|526.59186|526.59186|  0.0|           true|          false|          false|          false|           true|          false|          false|          false|        1|        0|        0|        0|        5| 1.7014264E9| 1.7014264E9| 8.5071324E9|     1.7014264E9| 0.003226772|false|false|false|false| false|false|false|false|true|false|false|false|false|false|true|true|  330.0|66.0|66.0|    66.0|      0.0|     66|0.0051658154|     5|808448|11.489125|     0.0|       0.0|     0.0|    25|       0|        0|             0|              0|  0.0051658154|      0.00949502|false|   false|      false|\n",
      "|2023-12-01 13:27:12|   0.01160717|          396|172.16.64.128|172.16.66.128|     41750|            502|           6|          TCP|      64| 516.9219| 516.9219|  0.0|           true|          false|          false|          false|           true|          false|          false|          false|        2|        0|        0|        0|        6| 1.7014264E9| 1.7014264E9|1.0208559E10|     1.7014264E9| 0.004179026|false|false|false|false| false|false|false|false|true|false|false|false|false|false|true|true|  396.0|66.0|66.0|    66.0|      0.0|     66|0.0021121502|     6|808448|11.489125|     0.0|       0.0|     0.0|    36|       0|        0|             0|              0|  0.0021121502|      0.01160717|false|   false|      false|\n",
      "|2023-12-01 13:27:12|  0.011808157|          462|172.16.64.128|172.16.66.128|     41750|            502|           6|          TCP|      64|592.81055|592.81055|  0.0|           true|          false|          false|          false|           true|          false|          false|          false|        3|        0|        0|        0|        7| 1.7014264E9| 1.7014264E9|1.1909985E10|     1.7014264E9|0.0045476044|false|false|false|false| false|false|false|false|true|false|false|false|false|false|true|true|  462.0|66.0|66.0|    66.0|      0.0|     66|2.0098686E-4|     7|808448|11.489125|     0.0|       0.0|     0.0|    49|       0|        0|             0|              0|  2.0098686E-4|     0.011808157|false|   false|      false|\n",
      "|2023-12-01 13:27:12|  0.013809204|          528|172.16.64.128|172.16.66.128|     41750|            502|           6|          TCP|      64| 579.3237| 579.3237|  0.0|           true|          false|          false|          false|           true|          false|          false|          false|        4|        0|        0|        0|        8| 1.7014264E9| 1.7014264E9|1.3611411E10|     1.7014264E9|0.0049843816|false|false|false|false| false|false|false|false|true|false|false|false|false|false|true|true|  528.0|66.0|66.0|    66.0|      0.0|     66|0.0020010471|     8|808448|11.489125|     0.0|       0.0|     0.0|    64|       0|        0|             0|              0|  0.0020010471|     0.013809204|false|   false|      false|\n",
      "|2023-12-01 13:27:12|  0.014196157|          594|172.16.66.128|172.16.64.128|       502|          41750|           6|          TCP|      64|633.97437|633.97437|  0.0|           true|          false|          false|          false|           true|          false|          false|          false|        5|        0|        0|        0|        9| 1.7014264E9| 1.7014264E9|1.5312838E10|     1.7014264E9| 0.005223919|false|false|false|false| false|false|false|false|true|false|false|false|false|false|true|true|  594.0|66.0|66.0|    66.0|      0.0|     66|3.8695335E-4|     9|808448|11.489125|     0.0|       0.0|     0.0|    81|       0|        0|             0|              0|  3.8695335E-4|     0.014196157|false|   false|      false|\n",
      "|2023-12-01 13:27:12|  0.016197205|          660|172.16.66.128|172.16.64.128|       502|          41750|           6|          TCP|      64| 617.3905| 617.3905|  0.0|           true|          false|          false|          false|           true|          false|          false|          false|        6|        0|        0|        0|       10| 1.7014264E9| 1.7014264E9|1.7014265E10|     1.7014264E9|0.0055671646|false|false|false|false| false|false|false|false|true|false|false|false|false|false|true|true|  660.0|66.0|66.0|    66.0|      0.0|     66|0.0020010471|    10|808448|11.489125|     0.0|       0.0|     0.0|   100|       0|        0|             0|              0|  0.0020010471|     0.016197205|false|   false|      false|\n",
      "|2023-12-01 13:27:12|  0.016472101|          726|172.16.66.128|172.16.64.128|       502|          41750|           6|          TCP|      64| 667.7958| 667.7958|  0.0|           true|          false|          false|          false|           true|          false|          false|          false|        7|        0|        0|        0|       11| 1.7014264E9| 1.7014264E9| 1.871569E10|     1.7014264E9| 0.005771702|false|false|false|false| false|false|false|false|true|false|false|false|false|false|true|true|  726.0|66.0|66.0|    66.0|      0.0|     66|2.7489662E-4|    11|808448|11.489125|     0.0|       0.0|     0.0|   121|       0|        0|             0|              0|  2.7489662E-4|     0.016472101|false|   false|      false|\n",
      "|2023-12-01 13:27:12|  0.018584013|          792|172.16.66.128|172.16.64.128|       502|          41750|           6|          TCP|      64| 645.7163| 645.7163|  0.0|           true|          false|          false|          false|           true|          false|          false|          false|        8|        0|        0|        0|       12| 1.7014264E9| 1.7014264E9|2.0417118E10|     1.7014264E9| 0.006092097|false|false|false|false| false|false|false|false|true|false|false|false|false|false|true|true|  792.0|66.0|66.0|    66.0|      0.0|     66|0.0021119118|    12|808448|11.489125|     0.0|       0.0|     0.0|   144|       0|        0|             0|              0|  0.0021119118|     0.018584013|false|   false|      false|\n",
      "|2023-12-01 13:27:12|  0.019061089|          858|172.16.64.128|172.16.66.128|     41750|            502|           6|          TCP|      64| 682.0177| 682.0177|  0.0|          false|          false|          false|          false|           true|          false|          false|          false|        8|        0|        0|        0|       13| 1.7014264E9| 1.7014264E9|2.2118543E10|     1.7014264E9|0.0063236356|false|false|false|false| false|false|false|false|true|false|false|false|false|false|true|true|  858.0|66.0|66.0|    66.0|      0.0|     66|4.7707558E-4|    13|808448|11.489125|     0.0|       0.0|     0.0|   169|       0|        0|             0|              0|  4.7707558E-4|     0.019061089|false|   false|      false|\n",
      "|2023-12-01 13:27:12|     0.021173|          924|172.16.64.128|172.16.66.128|     41750|            502|           6|          TCP|      64| 661.2195| 661.2195|  0.0|          false|          false|          false|          false|           true|          false|          false|          false|        8|        0|        0|        0|       14| 1.7014264E9| 1.7014264E9| 2.381997E10|     1.7014264E9| 0.006656664|false|false|false|false| false|false|false|false|true|false|false|false|false|false|true|true|  924.0|66.0|66.0|    66.0|      0.0|     66|0.0021119118|    14|808448|11.489125|     0.0|       0.0|     0.0|   196|       0|        0|             0|              0|  0.0021119118|        0.021173|false|   false|      false|\n",
      "|2023-12-01 13:27:12|  0.021376133|          990|172.16.64.128|172.16.66.128|     41750|            502|           6|          TCP|      64|701.71716|701.71716|  0.0|          false|          false|          false|          false|           true|          false|          false|          false|        8|        0|        0|        0|       15| 1.7014264E9| 1.7014264E9|2.5521396E10|     1.7014264E9|0.0068855635|false|false|false|false| false|false|false|false|true|false|false|false|false|false|true|true|  990.0|66.0|66.0|    66.0|      0.0|     66|2.0313263E-4|    15|808448|11.489125|     0.0|       0.0|     0.0|   225|       0|        0|             0|              0|  2.0313263E-4|     0.021376133|false|   false|      false|\n",
      "|2023-12-01 13:27:12|   0.02337718|         1056|172.16.64.128|172.16.66.128|     41750|            502|           6|          TCP|      64|684.42816|684.42816|  0.0|          false|          false|          false|          false|           true|          false|          false|          false|        8|        0|        0|        0|       16| 1.7014264E9| 1.7014264E9|2.7222823E10|     1.7014264E9| 0.007197731|false|false|false|false| false|false|false|false|true|false|false|false|false|false|true|true| 1056.0|66.0|66.0|    66.0|      0.0|     66|0.0020010471|    16|808448|11.489125|     0.0|       0.0|     0.0|   256|       0|        0|             0|              0|  0.0020010471|      0.02337718|false|   false|      false|\n",
      "|2023-12-01 13:27:12|          0.0|           82|172.16.64.128|172.16.63.128|      1883|          56837|           6|          TCP|      64|684.42816|684.42816|  0.0|          false|          false|          false|           true|           true|          false|          false|          false|        0|        0|        0|        1|        1| 1.7014264E9| 1.7014264E9| 1.7014264E9|     1.7014264E9|         0.0|false|false|false|false| false|false|false|false|true|false|false|false|false|false|true|true| 1138.0|66.0|82.0|66.94118| 3.764706|     82| 0.084615946|    17|808448|11.570754|5.324098| 14.173011|     1.0|   289|       0|        0|             0|              0|   1.7014264E9|             0.0|false|   false|      false|\n",
      "|2023-12-01 13:27:12| 0.0021369457|          164|172.16.64.128|172.16.63.128|      1883|          56837|           6|          TCP|      64| 935.9152| 935.9152|  0.0|          false|          false|          false|           true|           true|          false|          false|          false|        0|        0|        0|        2|        2| 1.7014264E9| 1.7014264E9| 3.4028529E9|     1.7014264E9|0.0010684729|false|false|false|false| false|false|false|false|true|false|false|false|false|false|true|true| 1220.0|66.0|82.0|67.77778| 5.028315|     82|0.0021369457|    18|808448|11.642833|7.111111|  25.28395|     1.0|   324|       0|        0|             0|              0|  0.0021369457|    0.0021369457|false|   false|      false|\n",
      "|2023-12-01 13:27:12| 0.0034880638|          241|172.16.63.128|172.16.64.128|     56837|           1883|           6|          TCP|      64|  860.076|  860.076|  0.0|          false|          false|          false|           true|           true|          false|          false|          false|        0|        0|        0|        3|        3| 1.7014264E9| 1.7014264E9| 5.1042796E9|     1.7014264E9|0.0014359916|false|false|false|false| false|false|false|false|true|false|false|false|false|false|true|true| 1297.0|66.0|82.0|68.26316|5.3097935|     77|0.0013511181|    19|808448|11.684447|7.509182| 28.193905|     1.0|   361|       0|        0|             0|              0|  0.0013511181|    0.0034880638|false|   false|      false|\n",
      "|2023-12-01 13:27:12| 0.0056169033|          318|172.16.63.128|172.16.64.128|     56837|           1883|           6|          TCP|      64|712.13617|712.13617|  0.0|          false|          false|          false|           true|           true|          false|          false|          false|        0|        0|        0|        4|        4| 1.7014264E9| 1.7014264E9| 6.8057057E9|     1.7014264E9|0.0020425215|false|false|false|false| false|false|false|false|true|false|false|false|false|false|true|true| 1374.0|66.0|82.0|    68.7|5.5145264|     77| 1.7014264E9|     0|808448|11.684447|7.509182| 28.193905|     1.0|   361|       0|        0|             0|              0|  0.0021288395|    0.0056169033|false|   false|      false|\n",
      "+-------------------+-------------+-------------+-------------+-------------+----------+---------------+------------+-------------+--------+---------+---------+-----+---------------+---------------+---------------+---------------+---------------+---------------+---------------+---------------+---------+---------+---------+---------+---------+------------+------------+------------+----------------+------------+-----+-----+-----+-----+------+-----+-----+-----+----+-----+-----+-----+-----+-----+----+----+-------+----+----+--------+---------+-------+------------+------+------+---------+--------+----------+--------+------+--------+---------+--------------+---------------+--------------+----------------+-----+--------+-----------+\n",
      "only showing top 20 rows\n",
      "\n"
     ]
    },
    {
     "name": "stderr",
     "output_type": "stream",
     "text": [
      "24/09/18 01:19:37 WARN CSVHeaderChecker: CSV header does not conform to the schema.\n",
      " Header: ts, flow_duration, Header_Length, Source IP, Destination IP, Source Port, Destination Port, Protocol Type, Protocol_name, Duration, Rate, Srate, Drate, fin_flag_number, syn_flag_number, rst_flag_number, psh_flag_number, ack_flag_number, urg_flag_number, ece_flag_number, cwr_flag_number, ack_count, syn_count, fin_count, urg_count, rst_count, max_duration, min_duration, sum_duration, average_duration, std_duration, CoAP, HTTP, HTTPS, DNS, Telnet, SMTP, SSH, IRC, TCP, UDP, DHCP, ARP, ICMP, IGMP, IPv, LLC, Tot sum, Min, Max, AVG, Std, Tot size, IAT, Number, MAC, Magnitue, Radius, Covariance, Variance, Weight, DS status, Fragments, Sequence number, Protocol Version, flow_idle_time, flow_active_time, label, subLabel, subLabelCat\n",
      " Schema: TS, flow_duration, Header_Length, DestinationIP, SourceIP, SourcePort, DestinationPort, ProtocolType, Protocol_name, Duration, Rate, Srate, Drate, fin_flag_number, syn_flag_number, rst_flag_number, psh_flag_number, ack_flag_number, urg_flag_number, ece_flag_number, cwr_flag_number, ack_count, syn_count, fin_count, urg_count, rst_count, max_duration, min_duration, sum_duration, average_duration, std_duration, CoAP, HTTP, HTTPS, DNS, Telnet, SMTP, SSH, IRC, TCP, UDP, DHCP, ARP, ICMP, IGMP, IPv, LLC, Tot_sum, Minn, Maxx, AVGG, Std, Totsize, IAT, Number, MAC, Magnitue, Radius, Covariance, Variance, Weight, DSstatus, Fragments, Sequencenumber, ProtocolVersion, flow_idle_time, flow_active_time, label, subLabel, subLabelCat\n",
      "Expected: DestinationIP but found: Source IP\n",
      "CSV file: s3a://datasets/phase1_NetworkData.csv\n"
     ]
    }
   ],
   "source": [
    "from functools import reduce\n",
    "\n",
    "oldColumns = df.schema.names\n",
    "newColumns = list()\n",
    "for i in \"TS, flow_duration, Header_Length, DestinationIP, SourceIP, SourcePort, DestinationPort, ProtocolType, Protocol_name, Duration, Rate, Srate, Drate, fin_flag_number, syn_flag_number, rst_flag_number, psh_flag_number, ack_flag_number, urg_flag_number, ece_flag_number, cwr_flag_number, ack_count, syn_count, fin_count, urg_count, rst_count, max_duration, min_duration, sum_duration, average_duration, std_duration, CoAP, HTTP, HTTPS, DNS, Telnet, SMTP, SSH, IRC, TCP, UDP, DHCP, ARP, ICMP, IGMP, IPv, LLC, Tot_sum, Minn, Maxx, AVGG, Std, Totsize, IAT, Number, MAC, Magnitue, Radius, Covariance, Variance, Weight, DSstatus, Fragments, Sequencenumber, ProtocolVersion, flow_idle_time, flow_active_time, label, subLabel, subLabelCat\".split(\", \"):\n",
    "    newColumns.append(i)\n",
    "\n",
    "df_renamed = reduce(lambda data, idx: data.withColumnRenamed(oldColumns[idx], newColumns[idx]), range(len(oldColumns)), df)\n",
    "df_renamed.show()"
   ]
  },
  {
   "cell_type": "code",
   "execution_count": 29,
   "metadata": {},
   "outputs": [
    {
     "data": {
      "text/plain": [
       "StructType(List(StructField(TS,TimestampType,true),StructField(flow_duration,FloatType,true),StructField(Header_Length,IntegerType,true),StructField(DestinationIP,StringType,true),StructField(SourceIP,StringType,true),StructField(SourcePort,IntegerType,true),StructField(DestinationPort,IntegerType,true),StructField(ProtocolType,IntegerType,true),StructField(Protocol_name,StringType,true),StructField(Duration,StringType,true),StructField(Rate,FloatType,true),StructField(Srate,FloatType,true),StructField(Drate,FloatType,true),StructField(fin_flag_number,BooleanType,true),StructField(syn_flag_number,BooleanType,true),StructField(rst_flag_number,BooleanType,true),StructField(psh_flag_number,BooleanType,true),StructField(ack_flag_number,BooleanType,true),StructField(urg_flag_number,BooleanType,true),StructField(ece_flag_number,BooleanType,true),StructField(cwr_flag_number,BooleanType,true),StructField(ack_count,IntegerType,true),StructField(syn_count,IntegerType,true),StructField(fin_count,IntegerType,true),StructField(urg_count,IntegerType,true),StructField(rst_count,IntegerType,true),StructField(max_duration,FloatType,true),StructField(min_duration,FloatType,true),StructField(sum_duration,FloatType,true),StructField(average_duration,FloatType,true),StructField(std_duration,FloatType,true),StructField(CoAP,BooleanType,true),StructField(HTTP,BooleanType,true),StructField(HTTPS,BooleanType,true),StructField(DNS,BooleanType,true),StructField(Telnet,BooleanType,true),StructField(SMTP,BooleanType,true),StructField(SSH,BooleanType,true),StructField(IRC,BooleanType,true),StructField(TCP,BooleanType,true),StructField(UDP,BooleanType,true),StructField(DHCP,BooleanType,true),StructField(ARP,BooleanType,true),StructField(ICMP,BooleanType,true),StructField(IGMP,BooleanType,true),StructField(IPv,BooleanType,true),StructField(LLC,BooleanType,true),StructField(Tot_sum,FloatType,true),StructField(Minn,FloatType,true),StructField(Maxx,FloatType,true),StructField(AVGG,FloatType,true),StructField(Std,FloatType,true),StructField(Totsize,StringType,true),StructField(IAT,FloatType,true),StructField(Number,IntegerType,true),StructField(MAC,IntegerType,true),StructField(Magnitue,FloatType,true),StructField(Radius,FloatType,true),StructField(Covariance,FloatType,true),StructField(Variance,FloatType,true),StructField(Weight,IntegerType,true),StructField(DSstatus,StringType,true),StructField(Fragments,StringType,true),StructField(Sequencenumber,StringType,true),StructField(ProtocolVersion,StringType,true),StructField(flow_idle_time,FloatType,true),StructField(flow_active_time,FloatType,true),StructField(label,BooleanType,true),StructField(subLabel,BooleanType,true),StructField(subLabelCat,BooleanType,true)))"
      ]
     },
     "execution_count": 29,
     "metadata": {},
     "output_type": "execute_result"
    }
   ],
   "source": [
    "latest_df_schema = df_renamed.schema\n",
    "latest_df_schema"
   ]
  },
  {
   "cell_type": "code",
   "execution_count": 39,
   "metadata": {},
   "outputs": [
    {
     "name": "stdout",
     "output_type": "stream",
     "text": [
      "++\n",
      "||\n",
      "++\n",
      "++\n",
      "\n"
     ]
    }
   ],
   "source": [
    "spark.sql(\"CREATE NAMESPACE IF NOT EXISTS nessie.attackdb;\")\n",
    "\n",
    "spark.sql(\"DROP TABLE IF EXISTS nessie.attackdb.attackphase1;\")\n",
    "\n",
    "spark.sql(\"\"\"\n",
    "CREATE TABLE nessie.attackdb.attackphase1 (\n",
    "TS timestamp,\\\n",
    "flow_duration float,\\\n",
    "Header_Length integer,\\\n",
    "DestinationIP string,\\\n",
    "SourceIP string,\\\n",
    "SourcePort integer,\\\n",
    "DestinationPort integer,\\\n",
    "ProtocolType integer,\\\n",
    "Protocol_name string,\\\n",
    "Duration string,\\\n",
    "Rate float,\\\n",
    "Srate float,\\\n",
    "Drate float,\\\n",
    "fin_flag_number boolean,\\\n",
    "syn_flag_number boolean,\\\n",
    "rst_flag_number boolean,\\\n",
    "psh_flag_number boolean,\\\n",
    "ack_flag_number boolean,\\\n",
    "urg_flag_number boolean,\\\n",
    "ece_flag_number boolean,\\\n",
    "cwr_flag_number boolean,\\\n",
    "ack_count integer,\\\n",
    "syn_count integer,\\\n",
    "fin_count integer,\\\n",
    "urg_count integer,\\\n",
    "rst_count integer,\\\n",
    "max_duration float,\\\n",
    "min_duration float,\\\n",
    "sum_duration float,\\\n",
    "average_duration float,\\\n",
    "std_duration float,\\\n",
    "CoAP boolean,\\\n",
    "HTTP boolean,\\\n",
    "HTTPS boolean,\\\n",
    "DNS boolean,\\\n",
    "Telnet boolean,\\\n",
    "SMTP boolean,\\\n",
    "SSH boolean,\\\n",
    "IRC boolean,\\\n",
    "TCP boolean,\\\n",
    "UDP boolean,\\\n",
    "DHCP boolean,\\\n",
    "ARP boolean,\\\n",
    "ICMP boolean,\\\n",
    "IGMP boolean,\\\n",
    "IPv boolean,\\\n",
    "LLC boolean,\\\n",
    "Tot_sum float,\\\n",
    "Minn float,\\\n",
    "Maxx float,\\\n",
    "AVGG float,\\\n",
    "Std float,\\\n",
    "Totsize string,\\\n",
    "IAT float,\\\n",
    "Number integer,\\\n",
    "MAC integer,\\\n",
    "Magnitue float,\\\n",
    "Radius float,\\\n",
    "Covariance float,\\\n",
    "Variance float,\\\n",
    "Weight integer,\\\n",
    "DSstatus string,\\\n",
    "Fragments string,\\\n",
    "Sequencenumber string,\\\n",
    "ProtocolVersion string,\\\n",
    "flow_idle_time float,\\\n",
    "flow_active_time float,\\\n",
    "label boolean,\\\n",
    "subLabel boolean,\\\n",
    "subLabelCat boolean\\\n",
    ") USING iceberg;\"\"\").show()"
   ]
  },
  {
   "cell_type": "code",
   "execution_count": 40,
   "metadata": {},
   "outputs": [
    {
     "name": "stderr",
     "output_type": "stream",
     "text": [
      "24/09/18 01:36:05 WARN CSVHeaderChecker: CSV header does not conform to the schema.\n",
      " Header: ts, flow_duration, Header_Length, Source IP, Destination IP, Source Port, Destination Port, Protocol Type, Protocol_name, Duration, Rate, Srate, Drate, fin_flag_number, syn_flag_number, rst_flag_number, psh_flag_number, ack_flag_number, urg_flag_number, ece_flag_number, cwr_flag_number, ack_count, syn_count, fin_count, urg_count, rst_count, max_duration, min_duration, sum_duration, average_duration, std_duration, CoAP, HTTP, HTTPS, DNS, Telnet, SMTP, SSH, IRC, TCP, UDP, DHCP, ARP, ICMP, IGMP, IPv, LLC, Tot sum, Min, Max, AVG, Std, Tot size, IAT, Number, MAC, Magnitue, Radius, Covariance, Variance, Weight, DS status, Fragments, Sequence number, Protocol Version, flow_idle_time, flow_active_time, label, subLabel, subLabelCat\n",
      " Schema: TS, flow_duration, Header_Length, DestinationIP, SourceIP, SourcePort, DestinationPort, ProtocolType, Protocol_name, Duration, Rate, Srate, Drate, fin_flag_number, syn_flag_number, rst_flag_number, psh_flag_number, ack_flag_number, urg_flag_number, ece_flag_number, cwr_flag_number, ack_count, syn_count, fin_count, urg_count, rst_count, max_duration, min_duration, sum_duration, average_duration, std_duration, CoAP, HTTP, HTTPS, DNS, Telnet, SMTP, SSH, IRC, TCP, UDP, DHCP, ARP, ICMP, IGMP, IPv, LLC, Tot_sum, Minn, Maxx, AVGG, Std, Totsize, IAT, Number, MAC, Magnitue, Radius, Covariance, Variance, Weight, DSstatus, Fragments, Sequencenumber, ProtocolVersion, flow_idle_time, flow_active_time, label, subLabel, subLabelCat\n",
      "Expected: DestinationIP but found: Source IP\n",
      "CSV file: s3a://datasets/phase1_NetworkData.csv\n",
      "                                                                                \r"
     ]
    }
   ],
   "source": [
    "df_renamed.write.mode(\"append\").insertInto(f\"nessie.attackdb.attackphase1\")"
   ]
  },
  {
   "cell_type": "code",
   "execution_count": null,
   "metadata": {},
   "outputs": [],
   "source": []
  }
 ],
 "metadata": {
  "kernelspec": {
   "display_name": "iceberg_venv",
   "language": "python",
   "name": "python3"
  },
  "language_info": {
   "codemirror_mode": {
    "name": "ipython",
    "version": 3
   },
   "file_extension": ".py",
   "mimetype": "text/x-python",
   "name": "python",
   "nbconvert_exporter": "python",
   "pygments_lexer": "ipython3",
   "version": "3.12.3"
  }
 },
 "nbformat": 4,
 "nbformat_minor": 2
}
